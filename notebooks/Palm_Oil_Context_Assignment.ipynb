{
 "cells": [
  {
   "cell_type": "code",
   "execution_count": null,
   "id": "c8c8bacc-d48d-46c3-bb4f-0347fef18341",
   "metadata": {},
   "outputs": [],
   "source": [
    "cd"
   ]
  },
  {
   "cell_type": "code",
   "execution_count": null,
   "id": "c93902b5-c9d5-4afd-bb48-ae52ffdbe30a",
   "metadata": {},
   "outputs": [],
   "source": [
    "cd SIT_FUSE/src/sit_fuse/postprocessing/"
   ]
  },
  {
   "cell_type": "code",
   "execution_count": null,
   "id": "5b31170c-f46a-4b9f-ac81-1649dac36ad2",
   "metadata": {},
   "outputs": [],
   "source": [
    "#Geolocate inital output -> Generates GeoTiffs from zarr files\n",
    "! python3 generate_cluster_geotiffs.py -y ../config/postprocess/palm_oil_geotiff_gen_init.yaml"
   ]
  },
  {
   "cell_type": "code",
   "execution_count": null,
   "id": "94530e91-3e8c-4296-a218-97f7955dc1d6",
   "metadata": {},
   "outputs": [],
   "source": [
    "from IPython.core.display import Image, display\n",
    "Image(filename = \"../../../figs/Palm_Oil/Init_Oil_Palm_Fig.png\")"
   ]
  },
  {
   "cell_type": "code",
   "execution_count": null,
   "id": "4d4523a1-a2a8-41dc-8588-69f13b8bc7b5",
   "metadata": {},
   "outputs": [],
   "source": [
    "#Take these GeoTiffs and use pre-existing or newly created shape files / vector data \n",
    "#to create correlations between labels and desired classes\n",
    "#See: https://nicks-personal-organization-2.gitbook.io/sit-fuse/user-guide/post-processing/zonal-histogram \n",
    "\n",
    "#Leverage output histograms to generate subset of labels and assign context\n",
    "! python3  class_compare.py -y ../config/postprocess/class_compare_dbf_palm_oil.yaml\n",
    "\n",
    "#Here we will take the set of classes in the first sublist after \"ASSIGNMENT\"\n",
    "#This can be an iterative process, if needed - changing correlation thresholds, removing / adding classes, updating vector files\n",
    "#Here we will remove one class from the reported set - 65.429, \n",
    "#resulting in the set: [6.296, 8.615, 8.639, 20.575, 35.182, 39.31, 39.311, 39.357, 39.38, 43.781, 56.632, 65.408, 65.412, 65.763, 71.008, 71.032]\n"
   ]
  },
  {
   "cell_type": "code",
   "execution_count": null,
   "id": "c6d5f6a5-d1ec-4a1d-b307-73581a6e62c8",
   "metadata": {},
   "outputs": [],
   "source": [
    "from IPython.core.display import Image, display\n",
    "Image(filename = \"../../../figs/Palm_Oil/Palm_Oil_Fig_2.png\")"
   ]
  },
  {
   "cell_type": "code",
   "execution_count": null,
   "id": "1951bc8e-79c9-4b69-86c0-9596637c16b6",
   "metadata": {},
   "outputs": [],
   "source": [
    "#The set of classes is passed into a new configuration file, and we run the final piece for context assignment\n",
    "! python3 generate_cluster_geotiffs.py -y ../config/postprocess/palm_oil_geotiff_gen_init.yaml"
   ]
  },
  {
   "cell_type": "code",
   "execution_count": null,
   "id": "018cebe1-0642-4994-aeda-5fb8ae0df979",
   "metadata": {},
   "outputs": [],
   "source": [
    "from IPython.core.display import Image, display\n",
    "Image(filename = \"../../../figs/Palm_Oil/Palm_Oil_Fig_3.png\")"
   ]
  },
  {
   "cell_type": "code",
   "execution_count": null,
   "id": "f27767db-9b9f-4206-9cbc-cbbf92bcd5b2",
   "metadata": {},
   "outputs": [],
   "source": [
    "#Finally we create contours and remove small/single pixel areas we know are not Oil Palm plantations\n",
    "! python3 contour_and_fill.py -y ../config/postprocess/palm_oil_contour.yaml \n",
    "#Files with .Contours.tif extensions are the final products. Each output product keeps the basename of the initial input it is associated with."
   ]
  },
  {
   "cell_type": "code",
   "execution_count": null,
   "id": "af65f83b-472c-4e19-b029-4ebeb264e213",
   "metadata": {},
   "outputs": [],
   "source": [
    "from IPython.core.display import Image, display\n",
    "Image(filename = \"../../../figs/Palm_Oil/Palm_Oil_Fig_4.png\")"
   ]
  },
  {
   "cell_type": "code",
   "execution_count": null,
   "id": "ba374ff5-66b6-4597-8a1d-4b560970038c",
   "metadata": {},
   "outputs": [],
   "source": []
  }
 ],
 "metadata": {
  "kernelspec": {
   "display_name": "Python 3 (ipykernel)",
   "language": "python",
   "name": "python3"
  },
  "language_info": {
   "codemirror_mode": {
    "name": "ipython",
    "version": 3
   },
   "file_extension": ".py",
   "mimetype": "text/x-python",
   "name": "python",
   "nbconvert_exporter": "python",
   "pygments_lexer": "ipython3",
   "version": "3.12.10"
  }
 },
 "nbformat": 4,
 "nbformat_minor": 5
}
