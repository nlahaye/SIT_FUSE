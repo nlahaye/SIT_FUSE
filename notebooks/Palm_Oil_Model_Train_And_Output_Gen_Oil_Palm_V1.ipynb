{
 "cells": [
  {
   "cell_type": "markdown",
   "metadata": {
    "id": "y22xv4q_9gqW"
   },
   "source": [
    "## **Environment setup.**"
   ]
  },
  {
   "cell_type": "code",
   "execution_count": null,
   "metadata": {
    "colab": {
     "base_uri": "https://localhost:8080/"
    },
    "id": "mXFHfn0fm4-A",
    "outputId": "e36471ac-929b-49d5-bb61-372612a99891"
   },
   "outputs": [],
   "source": [
    "!pip3 install tqdm torch torchvision torchaudio --index-url https://download.pytorch.org/whl/cu118\n",
    "!pip3 install GPUtil netCDF4 geopandas geocube dask_ml zarr\n",
    "!pip3 install cuml-cu11 --extra-index-url=https://pypi.nvidia.com"
   ]
  },
  {
   "cell_type": "markdown",
   "metadata": {
    "id": "1efsJNFl9nCa"
   },
   "source": [
    "## **Pull code from GitHub.**"
   ]
  },
  {
   "cell_type": "code",
   "execution_count": null,
   "metadata": {
    "colab": {
     "base_uri": "https://localhost:8080/"
    },
    "id": "HVYe0ETJn8mW",
    "outputId": "83247286-b8d1-4a37-c529-9726ecbac62f"
   },
   "outputs": [],
   "source": [
    "!rm -Rf /content/learnergy/\n",
    "!rm -Rf /content/SIT_FUSE\n",
    "!git clone https://github.com/nlahaye/learnergy.git\n",
    "!git clone https://github.com/nlahaye/SIT_FUSE.git"
   ]
  },
  {
   "cell_type": "markdown",
   "metadata": {
    "id": "8byhqFwC99Aw"
   },
   "source": [
    "## **Mount GDrive - TODO change out for VRT access**"
   ]
  },
  {
   "cell_type": "code",
   "execution_count": null,
   "metadata": {
    "colab": {
     "base_uri": "https://localhost:8080/"
    },
    "id": "BQ-URFt5o6gF",
    "outputId": "994a974b-9433-4591-e6f4-3324571a0f34"
   },
   "outputs": [],
   "source": [
    "from google.colab import drive\n",
    "drive.mount('/content/drive')"
   ]
  },
  {
   "cell_type": "markdown",
   "metadata": {
    "id": "6m84awvJ-EZK"
   },
   "source": [
    "## **Run Initial Feature Extraction & Top Level Clustering**"
   ]
  },
  {
   "cell_type": "code",
   "execution_count": null,
   "metadata": {
    "colab": {
     "base_uri": "https://localhost:8080/"
    },
    "id": "pFhm2JOVnP2T",
    "outputId": "6b701047-fe0f-4f2c-a8d9-5fa0216bae3e"
   },
   "outputs": [],
   "source": [
    "%env PYTHONPATH=$PYTHONPATH:/content/learnergy/:/content/SIT_FUSE/\n",
    "!cd SIT_FUSE; torchrun --nnodes=1 --nproc_per_node=1 dbn_learnergy.py --yaml /content/SIT_FUSE/config/dbn/palm_oil_dbn_colab.yaml"
   ]
  },
  {
   "cell_type": "markdown",
   "metadata": {
    "id": "eoueQC9u-kjv"
   },
   "source": [
    "## **Discretize Model Output - Assign Top Level Labels/Clusters**"
   ]
  },
  {
   "cell_type": "code",
   "execution_count": null,
   "metadata": {
    "colab": {
     "base_uri": "https://localhost:8080/"
    },
    "id": "1sh4yjdim6_u",
    "outputId": "611b1c31-ab90-4a62-9df4-936ab7224495"
   },
   "outputs": [],
   "source": [
    "%env PYTHONPATH=$PYTHONPATH:/content/learnergy/:/content/SIT_FUSE/\n",
    "!cd SIT_FUSE; python3 discretize_clusters.py --yaml /content/SIT_FUSE/config/cluster/discretize_palm_oil_colab.yaml"
   ]
  },
  {
   "cell_type": "markdown",
   "metadata": {
    "id": "ro15XP8b-t8Z"
   },
   "source": [
    "## **Visualize Initial Results**"
   ]
  },
  {
   "cell_type": "code",
   "execution_count": null,
   "metadata": {
    "id": "oFyEKG72onXy"
   },
   "outputs": [],
   "source": [
    "# import image module\n",
    "from IPython.display import Image\n",
    "\n",
    "# get the image\n",
    "Image(url=\"/content/drive/MyDrive/oil_palm_data_science/ML_Test/ucayali_condensed_stacks_2020_h1v1.tiff.clustoutput_test.data_150clusters.png\", width=300, height=300)"
   ]
  },
  {
   "cell_type": "markdown",
   "metadata": {
    "id": "vJR8V3_V_Ikn"
   },
   "source": [
    "## **Create Heirarchical Tree/Dendrogram of Labels - Assign More Precise Labels**"
   ]
  },
  {
   "cell_type": "code",
   "execution_count": null,
   "metadata": {
    "colab": {
     "base_uri": "https://localhost:8080/"
    },
    "id": "0SUpTjUH4qpq",
    "outputId": "50bf6dd5-4262-4877-af0e-83863d1abc38"
   },
   "outputs": [],
   "source": [
    "%env PYTHONPATH=$PYTHONPATH:/content/learnergy/:/content/SIT_FUSE/\n",
    "!cd SIT_FUSE; torchrun --nnodes=1 --nproc_per_node=1 dbn_learnergy_heirarchical.py --yaml /content/SIT_FUSE/config/dbn/palm_oil_dbn_colab.yaml"
   ]
  },
  {
   "cell_type": "markdown",
   "metadata": {
    "id": "u9nLMgxi_WQH"
   },
   "source": [
    "## **GeoTiff/Intermediate Product Generation**"
   ]
  },
  {
   "cell_type": "code",
   "execution_count": null,
   "metadata": {
    "colab": {
     "base_uri": "https://localhost:8080/"
    },
    "id": "Ih2yBvlBjqDI",
    "outputId": "e06219f7-79ed-4c8c-e7eb-86848ea2fca4"
   },
   "outputs": [],
   "source": [
    "%env PYTHONPATH=$PYTHONPATH:/content/learnergy/:/content/SIT_FUSE/\n",
    "!cd SIT_FUSE/postprocessing/; python3 generate_cluster_geotiffs.py --yaml ../config/postprocess/palm_oil_geotiff_gen_colab.yaml"
   ]
  },
  {
   "cell_type": "markdown",
   "metadata": {
    "id": "_fx82tI10vOO"
   },
   "source": [
    "## **Generate Final Product**"
   ]
  },
  {
   "cell_type": "code",
   "execution_count": null,
   "metadata": {
    "id": "fjdgQK6iBQF7"
   },
   "outputs": [],
   "source": [
    "%env PYTHONPATH=$PYTHONPATH:/content/learnergy/:/content/SIT_FUSE/\n",
    "!cd SIT_FUSE/postprocessing/; python3 contour_and_fill.py --yaml ../config/postprocess/palm_oil_contour_colab.yaml"
   ]
  }
 ],
 "metadata": {
  "accelerator": "GPU",
  "colab": {
   "collapsed_sections": [
    "y22xv4q_9gqW",
    "1efsJNFl9nCa",
    "8byhqFwC99Aw",
    "6m84awvJ-EZK",
    "eoueQC9u-kjv",
    "ro15XP8b-t8Z"
   ],
   "gpuClass": "premium",
   "machine_shape": "hm",
   "provenance": []
  },
  "gpuClass": "premium",
  "kernelspec": {
   "display_name": "Python 3 (ipykernel)",
   "language": "python",
   "name": "python3"
  },
  "language_info": {
   "codemirror_mode": {
    "name": "ipython",
    "version": 3
   },
   "file_extension": ".py",
   "mimetype": "text/x-python",
   "name": "python",
   "nbconvert_exporter": "python",
   "pygments_lexer": "ipython3",
   "version": "3.12.10"
  }
 },
 "nbformat": 4,
 "nbformat_minor": 4
}
