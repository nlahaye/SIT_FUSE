{
 "cells": [
  {
   "cell_type": "code",
   "execution_count": 6,
   "id": "c8c8bacc-d48d-46c3-bb4f-0347fef18341",
   "metadata": {},
   "outputs": [
    {
     "name": "stdout",
     "output_type": "stream",
     "text": [
      "/home/stasya\n"
     ]
    }
   ],
   "source": [
    "cd"
   ]
  },
  {
   "cell_type": "code",
   "execution_count": 7,
   "id": "c93902b5-c9d5-4afd-bb48-ae52ffdbe30a",
   "metadata": {},
   "outputs": [
    {
     "name": "stdout",
     "output_type": "stream",
     "text": [
      "/home/stasya/SIT_FUSE/src/sit_fuse/postprocessing\n"
     ]
    }
   ],
   "source": [
    "cd SIT_FUSE/src/sit_fuse/postprocessing/"
   ]
  },
  {
   "cell_type": "code",
   "execution_count": 8,
   "id": "5b31170c-f46a-4b9f-ac81-1649dac36ad2",
   "metadata": {},
   "outputs": [
    {
     "name": "stdout",
     "output_type": "stream",
     "text": [
      "/opt/conda/envs/sit_fuse/lib/python3.12/site-packages/osgeo/gdal.py:312: FutureWarning: Neither gdal.UseExceptions() nor gdal.DontUseExceptions() has been explicitly called. In GDAL 4.0, exceptions will be enabled by default.\n",
      "  warnings.warn(\n",
      "DBNDAT1 (600, 400) (16, 600, 400)\n",
      "(600, 400)\n",
      "[] 0 (600, 400)\n",
      "DBNDAT1 (600, 400) (16, 600, 400)\n",
      "(600, 400)\n",
      "[] 0 (600, 400)\n",
      "DBNDAT1 (600, 400) (16, 600, 400)\n",
      "(600, 400)\n",
      "[] 0 (600, 400)\n",
      "DBNDAT1 (600, 400) (16, 600, 400)\n",
      "(600, 400)\n",
      "[] 0 (600, 400)\n",
      "DBNDAT1 (600, 400) (16, 600, 400)\n",
      "(600, 400)\n",
      "[] 0 (600, 400)\n",
      "DBNDAT1 (600, 400) (16, 600, 400)\n",
      "(600, 400)\n",
      "[] 0 (600, 400)\n",
      "DBNDAT1 (600, 400) (16, 600, 400)\n",
      "(600, 400)\n",
      "[] 0 (600, 400)\n",
      "DBNDAT1 (600, 400) (16, 600, 400)\n",
      "(600, 400)\n",
      "[] 0 (600, 400)\n",
      "DBNDAT1 (600, 400) (16, 600, 400)\n",
      "(600, 400)\n",
      "[] 0 (600, 400)\n",
      "DBNDAT1 (600, 400) (16, 600, 400)\n",
      "(600, 400)\n",
      "[] 0 (600, 400)\n",
      "DBNDAT1 (600, 400) (16, 600, 400)\n",
      "(600, 400)\n",
      "[] 0 (600, 400)\n",
      "DBNDAT1 (600, 400) (16, 600, 400)\n",
      "(600, 400)\n",
      "[] 0 (600, 400)\n",
      "DBNDAT1 (600, 400) (16, 600, 400)\n",
      "(600, 400)\n",
      "[] 0 (600, 400)\n",
      "DBNDAT1 (600, 400) (16, 600, 400)\n",
      "(600, 400)\n",
      "[] 0 (600, 400)\n",
      "DBNDAT1 (600, 400) (16, 600, 400)\n",
      "(600, 400)\n",
      "[] 0 (600, 400)\n",
      "DBNDAT1 (600, 400) (16, 600, 400)\n",
      "(600, 400)\n",
      "[] 0 (600, 400)\n",
      "DBNDAT1 (600, 400) (16, 600, 400)\n",
      "(600, 400)\n",
      "[] 0 (600, 400)\n",
      "DBNDAT1 (600, 400) (16, 600, 400)\n",
      "(600, 400)\n",
      "[] 0 (600, 400)\n",
      "DBNDAT1 (600, 400) (16, 600, 400)\n",
      "(600, 400)\n",
      "[] 0 (600, 400)\n"
     ]
    }
   ],
   "source": [
    "! python3 generate_cluster_geotiffs.py -y ../config/postprocess/gk2a_geotiff_gen.yaml"
   ]
  },
  {
   "cell_type": "code",
   "execution_count": null,
   "id": "4d4523a1-a2a8-41dc-8588-69f13b8bc7b5",
   "metadata": {},
   "outputs": [],
   "source": []
  }
 ],
 "metadata": {
  "kernelspec": {
   "display_name": "sit_fuse",
   "language": "python",
   "name": "sit_fuse"
  },
  "language_info": {
   "codemirror_mode": {
    "name": "ipython",
    "version": 3
   },
   "file_extension": ".py",
   "mimetype": "text/x-python",
   "name": "python",
   "nbconvert_exporter": "python",
   "pygments_lexer": "ipython3",
   "version": "3.12.3"
  }
 },
 "nbformat": 4,
 "nbformat_minor": 5
}
